{
 "cells": [
  {
   "cell_type": "code",
   "execution_count": 9,
   "id": "16a41ea8",
   "metadata": {},
   "outputs": [],
   "source": [
    "import sqlite3\n",
    "import pandas as pd\n",
    "\n"
   ]
  },
  {
   "cell_type": "code",
   "execution_count": 10,
   "id": "4377e56c",
   "metadata": {},
   "outputs": [],
   "source": [
    "df = pd.read_csv('cleaned_books_data.csv')\n",
    "# Connect to SQLite (creates books.db if not exists)\n",
    "conn = sqlite3.connect('books.db')\n",
    "\n",
    "# Save DataFrame to SQL table\n",
    "df.to_sql('books', conn, if_exists='replace', index=False)\n",
    "\n",
    "# Close the connection\n",
    "conn.close()\n"
   ]
  },
  {
   "cell_type": "code",
   "execution_count": 11,
   "id": "754382a0",
   "metadata": {},
   "outputs": [
    {
     "name": "stdout",
     "output_type": "stream",
     "text": [
      "                                               Title  Price Rating  \\\n",
      "0  The Coming Woman: A Novel Based on the Life of...  17.93  Three   \n",
      "1     Starving Hearts (Triangular Trade Trilogy, #1)  13.99    Two   \n",
      "2                                        Set Me Free  17.46   Five   \n",
      "3                                        In Her Wake  12.84    One   \n",
      "4  The Four Agreements: A Practical Guide to Pers...  17.66   Five   \n",
      "\n",
      "  Availability  \n",
      "0     In stock  \n",
      "1     In stock  \n",
      "2     In stock  \n",
      "3     In stock  \n",
      "4     In stock  \n"
     ]
    }
   ],
   "source": [
    "# Reconnect to DB\n",
    "conn = sqlite3.connect('books.db')\n",
    "\n",
    "# Sample Query\n",
    "result = pd.read_sql_query(\"SELECT * FROM books WHERE Price < 20\", conn)\n",
    "print(result.head())\n",
    "\n",
    "conn.close()\n"
   ]
  }
 ],
 "metadata": {
  "kernelspec": {
   "display_name": "base",
   "language": "python",
   "name": "python3"
  },
  "language_info": {
   "codemirror_mode": {
    "name": "ipython",
    "version": 3
   },
   "file_extension": ".py",
   "mimetype": "text/x-python",
   "name": "python",
   "nbconvert_exporter": "python",
   "pygments_lexer": "ipython3",
   "version": "3.9.7"
  }
 },
 "nbformat": 4,
 "nbformat_minor": 5
}
